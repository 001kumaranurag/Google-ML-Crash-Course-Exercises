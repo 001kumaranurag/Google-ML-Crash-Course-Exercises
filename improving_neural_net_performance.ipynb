{
 "cells": [
  {
   "cell_type": "markdown",
   "metadata": {
    "colab_type": "text",
    "id": "JndnmDMp66FL"
   },
   "source": [
    "#### Copyright 2017 Google LLC."
   ]
  },
  {
   "cell_type": "code",
   "execution_count": 0,
   "metadata": {
    "cellView": "both",
    "colab": {
     "autoexec": {
      "startup": false,
      "wait_interval": 0
     }
    },
    "colab_type": "code",
    "id": "hMqWDc_m6rUC"
   },
   "outputs": [],
   "source": [
    "# Licensed under the Apache License, Version 2.0 (the \"License\");\n",
    "# you may not use this file except in compliance with the License.\n",
    "# You may obtain a copy of the License at\n",
    "#\n",
    "# https://www.apache.org/licenses/LICENSE-2.0\n",
    "#\n",
    "# Unless required by applicable law or agreed to in writing, software\n",
    "# distributed under the License is distributed on an \"AS IS\" BASIS,\n",
    "# WITHOUT WARRANTIES OR CONDITIONS OF ANY KIND, either express or implied.\n",
    "# See the License for the specific language governing permissions and\n",
    "# limitations under the License."
   ]
  },
  {
   "cell_type": "markdown",
   "metadata": {
    "colab_type": "text",
    "id": "eV16J6oUY-HN",
    "slideshow": {
     "slide_type": "slide"
    }
   },
   "source": [
    "# Improving Neural Net Performance"
   ]
  },
  {
   "cell_type": "markdown",
   "metadata": {
    "colab_type": "text",
    "id": "0Rwl1iXIKxkm"
   },
   "source": [
    "**Learning Objective:** Improve the performance of a neural network by normalizing features and applying various optimization algorithms\n",
    "\n",
    "**NOTE:** The optimization methods described in this exercise are not specific to neural networks; they are effective means to improve most types of models."
   ]
  },
  {
   "cell_type": "markdown",
   "metadata": {
    "colab_type": "text",
    "id": "lBPTONWzKxkn"
   },
   "source": [
    "## Setup\n",
    "\n",
    "First, we'll load the data."
   ]
  },
  {
   "cell_type": "code",
   "execution_count": 1,
   "metadata": {
    "colab": {
     "autoexec": {
      "startup": false,
      "wait_interval": 0
     },
     "base_uri": "https://localhost:8080/",
     "height": 17
    },
    "colab_type": "code",
    "executionInfo": {
     "elapsed": 3277,
     "status": "ok",
     "timestamp": 1527775105785,
     "user": {
      "displayName": "",
      "photoUrl": "",
      "userId": ""
     },
     "user_tz": -330
    },
    "id": "VtYVuONUKxko",
    "outputId": "16ca2e05-170d-4191-edbb-8e6c124101c1"
   },
   "outputs": [],
   "source": [
    "import math\n",
    "\n",
    "from IPython import display\n",
    "from matplotlib import cm\n",
    "from matplotlib import gridspec\n",
    "from matplotlib import pyplot as plt\n",
    "import numpy as np\n",
    "import pandas as pd\n",
    "from sklearn import metrics\n",
    "import tensorflow as tf\n",
    "from tensorflow.python.data import Dataset\n",
    "\n",
    "tf.logging.set_verbosity(tf.logging.ERROR)\n",
    "pd.options.display.max_rows = 10\n",
    "pd.options.display.float_format = '{:.1f}'.format\n",
    "\n",
    "california_housing_dataframe = pd.read_csv(\"https://storage.googleapis.com/mledu-datasets/california_housing_train.csv\", sep=\",\")\n",
    "\n",
    "california_housing_dataframe = california_housing_dataframe.reindex(\n",
    "    np.random.permutation(california_housing_dataframe.index))"
   ]
  },
  {
   "cell_type": "code",
   "execution_count": 2,
   "metadata": {
    "colab": {
     "autoexec": {
      "startup": false,
      "wait_interval": 0
     },
     "base_uri": "https://localhost:8080/",
     "height": 17
    },
    "colab_type": "code",
    "executionInfo": {
     "elapsed": 1165,
     "status": "ok",
     "timestamp": 1527775121937,
     "user": {
      "displayName": "",
      "photoUrl": "",
      "userId": ""
     },
     "user_tz": -330
    },
    "id": "B8qC-jTIKxkr",
    "outputId": "22a1dd54-5f05-43de-c818-1edebcf08a72"
   },
   "outputs": [],
   "source": [
    "def preprocess_features(california_housing_dataframe):\n",
    "  \"\"\"Prepares input features from California housing data set.\n",
    "\n",
    "  Args:\n",
    "    california_housing_dataframe: A Pandas DataFrame expected to contain data\n",
    "      from the California housing data set.\n",
    "  Returns:\n",
    "    A DataFrame that contains the features to be used for the model, including\n",
    "    synthetic features.\n",
    "  \"\"\"\n",
    "  selected_features = california_housing_dataframe[\n",
    "    [\"latitude\",\n",
    "     \"longitude\",\n",
    "     \"housing_median_age\",\n",
    "     \"total_rooms\",\n",
    "     \"total_bedrooms\",\n",
    "     \"population\",\n",
    "     \"households\",\n",
    "     \"median_income\"]]\n",
    "  processed_features = selected_features.copy()\n",
    "  # Create a synthetic feature.\n",
    "  processed_features[\"rooms_per_person\"] = (\n",
    "    california_housing_dataframe[\"total_rooms\"] /\n",
    "    california_housing_dataframe[\"population\"])\n",
    "  return processed_features\n",
    "\n",
    "def preprocess_targets(california_housing_dataframe):\n",
    "  \"\"\"Prepares target features (i.e., labels) from California housing data set.\n",
    "\n",
    "  Args:\n",
    "    california_housing_dataframe: A Pandas DataFrame expected to contain data\n",
    "      from the California housing data set.\n",
    "  Returns:\n",
    "    A DataFrame that contains the target feature.\n",
    "  \"\"\"\n",
    "  output_targets = pd.DataFrame()\n",
    "  # Scale the target to be in units of thousands of dollars.\n",
    "  output_targets[\"median_house_value\"] = (\n",
    "    california_housing_dataframe[\"median_house_value\"] / 1000.0)\n",
    "  return output_targets"
   ]
  },
  {
   "cell_type": "code",
   "execution_count": 3,
   "metadata": {
    "colab": {
     "autoexec": {
      "startup": false,
      "wait_interval": 0
     },
     "base_uri": "https://localhost:8080/",
     "height": 1205
    },
    "colab_type": "code",
    "executionInfo": {
     "elapsed": 1016,
     "status": "ok",
     "timestamp": 1527775128952,
     "user": {
      "displayName": "",
      "photoUrl": "",
      "userId": ""
     },
     "user_tz": -330
    },
    "id": "Ah6LjMIJ2spZ",
    "outputId": "7b81155c-698a-4b72-f0fe-97211b627895"
   },
   "outputs": [
    {
     "name": "stdout",
     "output_type": "stream",
     "text": [
      "Training examples summary:\n"
     ]
    },
    {
     "data": {
      "text/html": [
       "<div>\n",
       "<style scoped>\n",
       "    .dataframe tbody tr th:only-of-type {\n",
       "        vertical-align: middle;\n",
       "    }\n",
       "\n",
       "    .dataframe tbody tr th {\n",
       "        vertical-align: top;\n",
       "    }\n",
       "\n",
       "    .dataframe thead th {\n",
       "        text-align: right;\n",
       "    }\n",
       "</style>\n",
       "<table border=\"1\" class=\"dataframe\">\n",
       "  <thead>\n",
       "    <tr style=\"text-align: right;\">\n",
       "      <th></th>\n",
       "      <th>latitude</th>\n",
       "      <th>longitude</th>\n",
       "      <th>housing_median_age</th>\n",
       "      <th>total_rooms</th>\n",
       "      <th>total_bedrooms</th>\n",
       "      <th>population</th>\n",
       "      <th>households</th>\n",
       "      <th>median_income</th>\n",
       "      <th>rooms_per_person</th>\n",
       "    </tr>\n",
       "  </thead>\n",
       "  <tbody>\n",
       "    <tr>\n",
       "      <th>count</th>\n",
       "      <td>12000.0</td>\n",
       "      <td>12000.0</td>\n",
       "      <td>12000.0</td>\n",
       "      <td>12000.0</td>\n",
       "      <td>12000.0</td>\n",
       "      <td>12000.0</td>\n",
       "      <td>12000.0</td>\n",
       "      <td>12000.0</td>\n",
       "      <td>12000.0</td>\n",
       "    </tr>\n",
       "    <tr>\n",
       "      <th>mean</th>\n",
       "      <td>35.6</td>\n",
       "      <td>-119.6</td>\n",
       "      <td>28.6</td>\n",
       "      <td>2655.3</td>\n",
       "      <td>542.2</td>\n",
       "      <td>1436.7</td>\n",
       "      <td>503.6</td>\n",
       "      <td>3.9</td>\n",
       "      <td>2.0</td>\n",
       "    </tr>\n",
       "    <tr>\n",
       "      <th>std</th>\n",
       "      <td>2.1</td>\n",
       "      <td>2.0</td>\n",
       "      <td>12.6</td>\n",
       "      <td>2201.0</td>\n",
       "      <td>424.9</td>\n",
       "      <td>1141.2</td>\n",
       "      <td>388.0</td>\n",
       "      <td>1.9</td>\n",
       "      <td>1.1</td>\n",
       "    </tr>\n",
       "    <tr>\n",
       "      <th>min</th>\n",
       "      <td>32.5</td>\n",
       "      <td>-124.3</td>\n",
       "      <td>1.0</td>\n",
       "      <td>8.0</td>\n",
       "      <td>1.0</td>\n",
       "      <td>8.0</td>\n",
       "      <td>1.0</td>\n",
       "      <td>0.5</td>\n",
       "      <td>0.0</td>\n",
       "    </tr>\n",
       "    <tr>\n",
       "      <th>25%</th>\n",
       "      <td>33.9</td>\n",
       "      <td>-121.8</td>\n",
       "      <td>18.0</td>\n",
       "      <td>1465.0</td>\n",
       "      <td>299.0</td>\n",
       "      <td>792.0</td>\n",
       "      <td>283.0</td>\n",
       "      <td>2.6</td>\n",
       "      <td>1.5</td>\n",
       "    </tr>\n",
       "    <tr>\n",
       "      <th>50%</th>\n",
       "      <td>34.3</td>\n",
       "      <td>-118.5</td>\n",
       "      <td>29.0</td>\n",
       "      <td>2142.0</td>\n",
       "      <td>436.0</td>\n",
       "      <td>1172.0</td>\n",
       "      <td>411.0</td>\n",
       "      <td>3.5</td>\n",
       "      <td>1.9</td>\n",
       "    </tr>\n",
       "    <tr>\n",
       "      <th>75%</th>\n",
       "      <td>37.7</td>\n",
       "      <td>-118.0</td>\n",
       "      <td>37.0</td>\n",
       "      <td>3155.0</td>\n",
       "      <td>652.2</td>\n",
       "      <td>1728.0</td>\n",
       "      <td>608.0</td>\n",
       "      <td>4.8</td>\n",
       "      <td>2.3</td>\n",
       "    </tr>\n",
       "    <tr>\n",
       "      <th>max</th>\n",
       "      <td>42.0</td>\n",
       "      <td>-114.6</td>\n",
       "      <td>52.0</td>\n",
       "      <td>37937.0</td>\n",
       "      <td>6445.0</td>\n",
       "      <td>28566.0</td>\n",
       "      <td>6082.0</td>\n",
       "      <td>15.0</td>\n",
       "      <td>52.0</td>\n",
       "    </tr>\n",
       "  </tbody>\n",
       "</table>\n",
       "</div>"
      ],
      "text/plain": [
       "       latitude  longitude  housing_median_age  total_rooms  total_bedrooms  \\\n",
       "count   12000.0    12000.0             12000.0      12000.0         12000.0   \n",
       "mean       35.6     -119.6                28.6       2655.3           542.2   \n",
       "std         2.1        2.0                12.6       2201.0           424.9   \n",
       "min        32.5     -124.3                 1.0          8.0             1.0   \n",
       "25%        33.9     -121.8                18.0       1465.0           299.0   \n",
       "50%        34.3     -118.5                29.0       2142.0           436.0   \n",
       "75%        37.7     -118.0                37.0       3155.0           652.2   \n",
       "max        42.0     -114.6                52.0      37937.0          6445.0   \n",
       "\n",
       "       population  households  median_income  rooms_per_person  \n",
       "count     12000.0     12000.0        12000.0           12000.0  \n",
       "mean       1436.7       503.6            3.9               2.0  \n",
       "std        1141.2       388.0            1.9               1.1  \n",
       "min           8.0         1.0            0.5               0.0  \n",
       "25%         792.0       283.0            2.6               1.5  \n",
       "50%        1172.0       411.0            3.5               1.9  \n",
       "75%        1728.0       608.0            4.8               2.3  \n",
       "max       28566.0      6082.0           15.0              52.0  "
      ]
     },
     "metadata": {
      "tags": []
     },
     "output_type": "display_data"
    },
    {
     "name": "stdout",
     "output_type": "stream",
     "text": [
      "Validation examples summary:\n"
     ]
    },
    {
     "data": {
      "text/html": [
       "<div>\n",
       "<style scoped>\n",
       "    .dataframe tbody tr th:only-of-type {\n",
       "        vertical-align: middle;\n",
       "    }\n",
       "\n",
       "    .dataframe tbody tr th {\n",
       "        vertical-align: top;\n",
       "    }\n",
       "\n",
       "    .dataframe thead th {\n",
       "        text-align: right;\n",
       "    }\n",
       "</style>\n",
       "<table border=\"1\" class=\"dataframe\">\n",
       "  <thead>\n",
       "    <tr style=\"text-align: right;\">\n",
       "      <th></th>\n",
       "      <th>latitude</th>\n",
       "      <th>longitude</th>\n",
       "      <th>housing_median_age</th>\n",
       "      <th>total_rooms</th>\n",
       "      <th>total_bedrooms</th>\n",
       "      <th>population</th>\n",
       "      <th>households</th>\n",
       "      <th>median_income</th>\n",
       "      <th>rooms_per_person</th>\n",
       "    </tr>\n",
       "  </thead>\n",
       "  <tbody>\n",
       "    <tr>\n",
       "      <th>count</th>\n",
       "      <td>5000.0</td>\n",
       "      <td>5000.0</td>\n",
       "      <td>5000.0</td>\n",
       "      <td>5000.0</td>\n",
       "      <td>5000.0</td>\n",
       "      <td>5000.0</td>\n",
       "      <td>5000.0</td>\n",
       "      <td>5000.0</td>\n",
       "      <td>5000.0</td>\n",
       "    </tr>\n",
       "    <tr>\n",
       "      <th>mean</th>\n",
       "      <td>35.6</td>\n",
       "      <td>-119.5</td>\n",
       "      <td>28.7</td>\n",
       "      <td>2615.7</td>\n",
       "      <td>532.8</td>\n",
       "      <td>1412.6</td>\n",
       "      <td>495.4</td>\n",
       "      <td>3.9</td>\n",
       "      <td>2.0</td>\n",
       "    </tr>\n",
       "    <tr>\n",
       "      <th>std</th>\n",
       "      <td>2.1</td>\n",
       "      <td>2.0</td>\n",
       "      <td>12.5</td>\n",
       "      <td>2128.6</td>\n",
       "      <td>413.2</td>\n",
       "      <td>1163.7</td>\n",
       "      <td>376.1</td>\n",
       "      <td>2.0</td>\n",
       "      <td>1.3</td>\n",
       "    </tr>\n",
       "    <tr>\n",
       "      <th>min</th>\n",
       "      <td>32.5</td>\n",
       "      <td>-124.3</td>\n",
       "      <td>2.0</td>\n",
       "      <td>2.0</td>\n",
       "      <td>2.0</td>\n",
       "      <td>3.0</td>\n",
       "      <td>2.0</td>\n",
       "      <td>0.5</td>\n",
       "      <td>0.1</td>\n",
       "    </tr>\n",
       "    <tr>\n",
       "      <th>25%</th>\n",
       "      <td>33.9</td>\n",
       "      <td>-121.8</td>\n",
       "      <td>18.0</td>\n",
       "      <td>1450.8</td>\n",
       "      <td>292.0</td>\n",
       "      <td>786.0</td>\n",
       "      <td>279.0</td>\n",
       "      <td>2.6</td>\n",
       "      <td>1.5</td>\n",
       "    </tr>\n",
       "    <tr>\n",
       "      <th>50%</th>\n",
       "      <td>34.2</td>\n",
       "      <td>-118.5</td>\n",
       "      <td>29.0</td>\n",
       "      <td>2101.0</td>\n",
       "      <td>428.5</td>\n",
       "      <td>1155.5</td>\n",
       "      <td>404.0</td>\n",
       "      <td>3.6</td>\n",
       "      <td>1.9</td>\n",
       "    </tr>\n",
       "    <tr>\n",
       "      <th>75%</th>\n",
       "      <td>37.7</td>\n",
       "      <td>-118.0</td>\n",
       "      <td>37.0</td>\n",
       "      <td>3137.0</td>\n",
       "      <td>638.2</td>\n",
       "      <td>1707.2</td>\n",
       "      <td>594.0</td>\n",
       "      <td>4.8</td>\n",
       "      <td>2.3</td>\n",
       "    </tr>\n",
       "    <tr>\n",
       "      <th>max</th>\n",
       "      <td>42.0</td>\n",
       "      <td>-114.3</td>\n",
       "      <td>52.0</td>\n",
       "      <td>30401.0</td>\n",
       "      <td>4957.0</td>\n",
       "      <td>35682.0</td>\n",
       "      <td>4769.0</td>\n",
       "      <td>15.0</td>\n",
       "      <td>55.2</td>\n",
       "    </tr>\n",
       "  </tbody>\n",
       "</table>\n",
       "</div>"
      ],
      "text/plain": [
       "       latitude  longitude  housing_median_age  total_rooms  total_bedrooms  \\\n",
       "count    5000.0     5000.0              5000.0       5000.0          5000.0   \n",
       "mean       35.6     -119.5                28.7       2615.7           532.8   \n",
       "std         2.1        2.0                12.5       2128.6           413.2   \n",
       "min        32.5     -124.3                 2.0          2.0             2.0   \n",
       "25%        33.9     -121.8                18.0       1450.8           292.0   \n",
       "50%        34.2     -118.5                29.0       2101.0           428.5   \n",
       "75%        37.7     -118.0                37.0       3137.0           638.2   \n",
       "max        42.0     -114.3                52.0      30401.0          4957.0   \n",
       "\n",
       "       population  households  median_income  rooms_per_person  \n",
       "count      5000.0      5000.0         5000.0            5000.0  \n",
       "mean       1412.6       495.4            3.9               2.0  \n",
       "std        1163.7       376.1            2.0               1.3  \n",
       "min           3.0         2.0            0.5               0.1  \n",
       "25%         786.0       279.0            2.6               1.5  \n",
       "50%        1155.5       404.0            3.6               1.9  \n",
       "75%        1707.2       594.0            4.8               2.3  \n",
       "max       35682.0      4769.0           15.0              55.2  "
      ]
     },
     "metadata": {
      "tags": []
     },
     "output_type": "display_data"
    },
    {
     "name": "stdout",
     "output_type": "stream",
     "text": [
      "Training targets summary:\n"
     ]
    },
    {
     "data": {
      "text/html": [
       "<div>\n",
       "<style scoped>\n",
       "    .dataframe tbody tr th:only-of-type {\n",
       "        vertical-align: middle;\n",
       "    }\n",
       "\n",
       "    .dataframe tbody tr th {\n",
       "        vertical-align: top;\n",
       "    }\n",
       "\n",
       "    .dataframe thead th {\n",
       "        text-align: right;\n",
       "    }\n",
       "</style>\n",
       "<table border=\"1\" class=\"dataframe\">\n",
       "  <thead>\n",
       "    <tr style=\"text-align: right;\">\n",
       "      <th></th>\n",
       "      <th>median_house_value</th>\n",
       "    </tr>\n",
       "  </thead>\n",
       "  <tbody>\n",
       "    <tr>\n",
       "      <th>count</th>\n",
       "      <td>12000.0</td>\n",
       "    </tr>\n",
       "    <tr>\n",
       "      <th>mean</th>\n",
       "      <td>207.3</td>\n",
       "    </tr>\n",
       "    <tr>\n",
       "      <th>std</th>\n",
       "      <td>116.0</td>\n",
       "    </tr>\n",
       "    <tr>\n",
       "      <th>min</th>\n",
       "      <td>15.0</td>\n",
       "    </tr>\n",
       "    <tr>\n",
       "      <th>25%</th>\n",
       "      <td>119.1</td>\n",
       "    </tr>\n",
       "    <tr>\n",
       "      <th>50%</th>\n",
       "      <td>180.5</td>\n",
       "    </tr>\n",
       "    <tr>\n",
       "      <th>75%</th>\n",
       "      <td>265.2</td>\n",
       "    </tr>\n",
       "    <tr>\n",
       "      <th>max</th>\n",
       "      <td>500.0</td>\n",
       "    </tr>\n",
       "  </tbody>\n",
       "</table>\n",
       "</div>"
      ],
      "text/plain": [
       "       median_house_value\n",
       "count             12000.0\n",
       "mean                207.3\n",
       "std                 116.0\n",
       "min                  15.0\n",
       "25%                 119.1\n",
       "50%                 180.5\n",
       "75%                 265.2\n",
       "max                 500.0"
      ]
     },
     "metadata": {
      "tags": []
     },
     "output_type": "display_data"
    },
    {
     "name": "stdout",
     "output_type": "stream",
     "text": [
      "Validation targets summary:\n"
     ]
    },
    {
     "data": {
      "text/html": [
       "<div>\n",
       "<style scoped>\n",
       "    .dataframe tbody tr th:only-of-type {\n",
       "        vertical-align: middle;\n",
       "    }\n",
       "\n",
       "    .dataframe tbody tr th {\n",
       "        vertical-align: top;\n",
       "    }\n",
       "\n",
       "    .dataframe thead th {\n",
       "        text-align: right;\n",
       "    }\n",
       "</style>\n",
       "<table border=\"1\" class=\"dataframe\">\n",
       "  <thead>\n",
       "    <tr style=\"text-align: right;\">\n",
       "      <th></th>\n",
       "      <th>median_house_value</th>\n",
       "    </tr>\n",
       "  </thead>\n",
       "  <tbody>\n",
       "    <tr>\n",
       "      <th>count</th>\n",
       "      <td>5000.0</td>\n",
       "    </tr>\n",
       "    <tr>\n",
       "      <th>mean</th>\n",
       "      <td>207.2</td>\n",
       "    </tr>\n",
       "    <tr>\n",
       "      <th>std</th>\n",
       "      <td>115.9</td>\n",
       "    </tr>\n",
       "    <tr>\n",
       "      <th>min</th>\n",
       "      <td>15.0</td>\n",
       "    </tr>\n",
       "    <tr>\n",
       "      <th>25%</th>\n",
       "      <td>120.7</td>\n",
       "    </tr>\n",
       "    <tr>\n",
       "      <th>50%</th>\n",
       "      <td>179.8</td>\n",
       "    </tr>\n",
       "    <tr>\n",
       "      <th>75%</th>\n",
       "      <td>264.4</td>\n",
       "    </tr>\n",
       "    <tr>\n",
       "      <th>max</th>\n",
       "      <td>500.0</td>\n",
       "    </tr>\n",
       "  </tbody>\n",
       "</table>\n",
       "</div>"
      ],
      "text/plain": [
       "       median_house_value\n",
       "count              5000.0\n",
       "mean                207.2\n",
       "std                 115.9\n",
       "min                  15.0\n",
       "25%                 120.7\n",
       "50%                 179.8\n",
       "75%                 264.4\n",
       "max                 500.0"
      ]
     },
     "metadata": {
      "tags": []
     },
     "output_type": "display_data"
    }
   ],
   "source": [
    "# Choose the first 12000 (out of 17000) examples for training.\n",
    "training_examples = preprocess_features(california_housing_dataframe.head(12000))\n",
    "training_targets = preprocess_targets(california_housing_dataframe.head(12000))\n",
    "\n",
    "# Choose the last 5000 (out of 17000) examples for validation.\n",
    "validation_examples = preprocess_features(california_housing_dataframe.tail(5000))\n",
    "validation_targets = preprocess_targets(california_housing_dataframe.tail(5000))\n",
    "\n",
    "# Double-check that we've done the right thing.\n",
    "print \"Training examples summary:\"\n",
    "display.display(training_examples.describe())\n",
    "print \"Validation examples summary:\"\n",
    "display.display(validation_examples.describe())\n",
    "\n",
    "print \"Training targets summary:\"\n",
    "display.display(training_targets.describe())\n",
    "print \"Validation targets summary:\"\n",
    "display.display(validation_targets.describe())"
   ]
  },
  {
   "cell_type": "markdown",
   "metadata": {
    "colab_type": "text",
    "id": "NqIbXxx222ea"
   },
   "source": [
    "## Train the Neural Network\n",
    "\n",
    "Next, we'll train the neural network."
   ]
  },
  {
   "cell_type": "code",
   "execution_count": 5,
   "metadata": {
    "colab": {
     "autoexec": {
      "startup": false,
      "wait_interval": 0
     },
     "base_uri": "https://localhost:8080/",
     "height": 17
    },
    "colab_type": "code",
    "executionInfo": {
     "elapsed": 923,
     "status": "ok",
     "timestamp": 1527776463642,
     "user": {
      "displayName": "",
      "photoUrl": "",
      "userId": ""
     },
     "user_tz": -330
    },
    "id": "6k3xYlSg27VB",
    "outputId": "20affea6-34e2-4a57-b5f3-7e7e8562db03"
   },
   "outputs": [],
   "source": [
    "def construct_feature_columns(input_features):\n",
    "  \"\"\"Construct the TensorFlow Feature Columns.\n",
    "\n",
    "  Args:\n",
    "    input_features: The names of the numerical input features to use.\n",
    "  Returns:\n",
    "    A set of feature columns\n",
    "  \"\"\" \n",
    "  return set([tf.feature_column.numeric_column(my_feature)\n",
    "              for my_feature in input_features])"
   ]
  },
  {
   "cell_type": "code",
   "execution_count": 6,
   "metadata": {
    "colab": {
     "autoexec": {
      "startup": false,
      "wait_interval": 0
     },
     "base_uri": "https://localhost:8080/",
     "height": 17
    },
    "colab_type": "code",
    "executionInfo": {
     "elapsed": 966,
     "status": "ok",
     "timestamp": 1527776467745,
     "user": {
      "displayName": "",
      "photoUrl": "",
      "userId": ""
     },
     "user_tz": -330
    },
    "id": "De9jwyy4wTUT",
    "outputId": "389d4b4d-f523-48ab-a078-4c6043b33558"
   },
   "outputs": [],
   "source": [
    "def my_input_fn(features, targets, batch_size=1, shuffle=True, num_epochs=None):\n",
    "    \"\"\"Trains a neural network model.\n",
    "  \n",
    "    Args:\n",
    "      features: pandas DataFrame of features\n",
    "      targets: pandas DataFrame of targets\n",
    "      batch_size: Size of batches to be passed to the model\n",
    "      shuffle: True or False. Whether to shuffle the data.\n",
    "      num_epochs: Number of epochs for which data should be repeated. None = repeat indefinitely\n",
    "    Returns:\n",
    "      Tuple of (features, labels) for next data batch\n",
    "    \"\"\"\n",
    "    \n",
    "    # Convert pandas data into a dict of np arrays.\n",
    "    features = {key:np.array(value) for key,value in dict(features).items()}                                           \n",
    " \n",
    "    # Construct a dataset, and configure batching/repeating.\n",
    "    ds = Dataset.from_tensor_slices((features,targets)) # warning: 2GB limit\n",
    "    ds = ds.batch(batch_size).repeat(num_epochs)\n",
    "    \n",
    "    # Shuffle the data, if specified.\n",
    "    if shuffle:\n",
    "      ds = ds.shuffle(10000)\n",
    "    \n",
    "    # Return the next batch of data.\n",
    "    features, labels = ds.make_one_shot_iterator().get_next()\n",
    "    return features, labels"
   ]
  },
  {
   "cell_type": "code",
   "execution_count": 7,
   "metadata": {
    "colab": {
     "autoexec": {
      "startup": false,
      "wait_interval": 0
     },
     "base_uri": "https://localhost:8080/",
     "height": 17
    },
    "colab_type": "code",
    "executionInfo": {
     "elapsed": 1010,
     "status": "ok",
     "timestamp": 1527776483784,
     "user": {
      "displayName": "",
      "photoUrl": "",
      "userId": ""
     },
     "user_tz": -330
    },
    "id": "W-51R3yIKxk4",
    "outputId": "2e060c10-ffac-4ae7-90f0-86243a6fe58f"
   },
   "outputs": [],
   "source": [
    "def train_nn_regression_model(\n",
    "    my_optimizer,\n",
    "    steps,\n",
    "    batch_size,\n",
    "    hidden_units,\n",
    "    training_examples,\n",
    "    training_targets,\n",
    "    validation_examples,\n",
    "    validation_targets):\n",
    "  \"\"\"Trains a neural network regression model.\n",
    "  \n",
    "  In addition to training, this function also prints training progress information,\n",
    "  as well as a plot of the training and validation loss over time.\n",
    "  \n",
    "  Args:\n",
    "    my_optimizer: An instance of `tf.train.Optimizer`, the optimizer to use.\n",
    "    steps: A non-zero `int`, the total number of training steps. A training step\n",
    "      consists of a forward and backward pass using a single batch.\n",
    "    batch_size: A non-zero `int`, the batch size.\n",
    "    hidden_units: A `list` of int values, specifying the number of neurons in each layer.\n",
    "    training_examples: A `DataFrame` containing one or more columns from\n",
    "      `california_housing_dataframe` to use as input features for training.\n",
    "    training_targets: A `DataFrame` containing exactly one column from\n",
    "      `california_housing_dataframe` to use as target for training.\n",
    "    validation_examples: A `DataFrame` containing one or more columns from\n",
    "      `california_housing_dataframe` to use as input features for validation.\n",
    "    validation_targets: A `DataFrame` containing exactly one column from\n",
    "      `california_housing_dataframe` to use as target for validation.\n",
    "      \n",
    "  Returns:\n",
    "    A tuple `(estimator, training_losses, validation_losses)`:\n",
    "      estimator: the trained `DNNRegressor` object.\n",
    "      training_losses: a `list` containing the training loss values taken during training.\n",
    "      validation_losses: a `list` containing the validation loss values taken during training.\n",
    "  \"\"\"\n",
    "\n",
    "  periods = 10\n",
    "  steps_per_period = steps / periods\n",
    "  \n",
    "  # Create a DNNRegressor object.\n",
    "  my_optimizer = tf.contrib.estimator.clip_gradients_by_norm(my_optimizer, 5.0)\n",
    "  dnn_regressor = tf.estimator.DNNRegressor(\n",
    "      feature_columns=construct_feature_columns(training_examples),\n",
    "      hidden_units=hidden_units,\n",
    "      optimizer=my_optimizer\n",
    "  )\n",
    "  \n",
    "  # Create input functions.\n",
    "  training_input_fn = lambda: my_input_fn(training_examples, \n",
    "                                          training_targets[\"median_house_value\"], \n",
    "                                          batch_size=batch_size)\n",
    "  predict_training_input_fn = lambda: my_input_fn(training_examples, \n",
    "                                                  training_targets[\"median_house_value\"], \n",
    "                                                  num_epochs=1, \n",
    "                                                  shuffle=False)\n",
    "  predict_validation_input_fn = lambda: my_input_fn(validation_examples, \n",
    "                                                    validation_targets[\"median_house_value\"], \n",
    "                                                    num_epochs=1, \n",
    "                                                    shuffle=False)\n",
    "\n",
    "  # Train the model, but do so inside a loop so that we can periodically assess\n",
    "  # loss metrics.\n",
    "  print \"Training model...\"\n",
    "  print \"RMSE (on training data):\"\n",
    "  training_rmse = []\n",
    "  validation_rmse = []\n",
    "  for period in range (0, periods):\n",
    "    # Train the model, starting from the prior state.\n",
    "    dnn_regressor.train(\n",
    "        input_fn=training_input_fn,\n",
    "        steps=steps_per_period\n",
    "    )\n",
    "    # Take a break and compute predictions.\n",
    "    training_predictions = dnn_regressor.predict(input_fn=predict_training_input_fn)\n",
    "    training_predictions = np.array([item['predictions'][0] for item in training_predictions])\n",
    "    \n",
    "    validation_predictions = dnn_regressor.predict(input_fn=predict_validation_input_fn)\n",
    "    validation_predictions = np.array([item['predictions'][0] for item in validation_predictions])\n",
    "    \n",
    "    # Compute training and validation loss.\n",
    "    training_root_mean_squared_error = math.sqrt(\n",
    "        metrics.mean_squared_error(training_predictions, training_targets))\n",
    "    validation_root_mean_squared_error = math.sqrt(\n",
    "        metrics.mean_squared_error(validation_predictions, validation_targets))\n",
    "    # Occasionally print the current loss.\n",
    "    print \"  period %02d : %0.2f\" % (period, training_root_mean_squared_error)\n",
    "    # Add the loss metrics from this period to our list.\n",
    "    training_rmse.append(training_root_mean_squared_error)\n",
    "    validation_rmse.append(validation_root_mean_squared_error)\n",
    "  print \"Model training finished.\"\n",
    "\n",
    "  # Output a graph of loss metrics over periods.\n",
    "  plt.ylabel(\"RMSE\")\n",
    "  plt.xlabel(\"Periods\")\n",
    "  plt.title(\"Root Mean Squared Error vs. Periods\")\n",
    "  plt.tight_layout()\n",
    "  plt.plot(training_rmse, label=\"training\")\n",
    "  plt.plot(validation_rmse, label=\"validation\")\n",
    "  plt.legend()\n",
    "\n",
    "  print \"Final RMSE (on training data):   %0.2f\" % training_root_mean_squared_error\n",
    "  print \"Final RMSE (on validation data): %0.2f\" % validation_root_mean_squared_error\n",
    "\n",
    "  return dnn_regressor, training_rmse, validation_rmse"
   ]
  },
  {
   "cell_type": "code",
   "execution_count": 8,
   "metadata": {
    "colab": {
     "autoexec": {
      "startup": false,
      "wait_interval": 0
     },
     "base_uri": "https://localhost:8080/",
     "height": 656
    },
    "colab_type": "code",
    "executionInfo": {
     "elapsed": 115495,
     "status": "ok",
     "timestamp": 1527776603317,
     "user": {
      "displayName": "",
      "photoUrl": "",
      "userId": ""
     },
     "user_tz": -330
    },
    "id": "KueReMZ9Kxk7",
    "outputId": "89bf2d9d-870a-4a93-fb38-e561b7bfe122"
   },
   "outputs": [
    {
     "name": "stdout",
     "output_type": "stream",
     "text": [
      "Training model...\n",
      "RMSE (on training data):\n",
      "  period 00 : 159.60\n",
      "  period 01 : 150.93\n",
      "  period 02 : 141.52\n",
      "  period 03 : 131.03\n",
      "  period 04 : 121.20\n",
      "  period 05 : 111.32\n",
      "  period 06 : 109.92\n",
      "  period 07 : 105.03\n",
      "  period 08 : 104.17\n",
      "  period 09 : 102.89\n",
      "Model training finished.\n",
      "Final RMSE (on training data):   102.89\n",
      "Final RMSE (on validation data): 104.62\n"
     ]
    },
    {
     "data": {
      "image/png": "[encoded data removed]",
      "text/plain": [
       "<matplotlib.figure.Figure at 0x7f9713aa4f50>"
      ]
     },
     "metadata": {
      "tags": []
     },
     "output_type": "display_data"
    }
   ],
   "source": [
    "_ = train_nn_regression_model(\n",
    "    my_optimizer=tf.train.GradientDescentOptimizer(learning_rate=0.0007),\n",
    "    steps=5000,\n",
    "    batch_size=70,\n",
    "    hidden_units=[10, 10],\n",
    "    training_examples=training_examples,\n",
    "    training_targets=training_targets,\n",
    "    validation_examples=validation_examples,\n",
    "    validation_targets=validation_targets)"
   ]
  },
  {
   "cell_type": "markdown",
   "metadata": {
    "colab_type": "text",
    "id": "flxmFt0KKxk9"
   },
   "source": [
    "## Linear Scaling\n",
    "It can be a good standard practice to normalize the inputs to fall within the range -1, 1. This helps SGD not get stuck taking steps that are too large in one dimension, or too small in another. Fans of numerical optimization may note that there's a connection to the idea of using a preconditioner here."
   ]
  },
  {
   "cell_type": "code",
   "execution_count": 10,
   "metadata": {
    "colab": {
     "autoexec": {
      "startup": false,
      "wait_interval": 0
     },
     "base_uri": "https://localhost:8080/",
     "height": 17
    },
    "colab_type": "code",
    "executionInfo": {
     "elapsed": 981,
     "status": "ok",
     "timestamp": 1527777217538,
     "user": {
      "displayName": "",
      "photoUrl": "",
      "userId": ""
     },
     "user_tz": -330
    },
    "id": "Dws5rIQjKxk-",
    "outputId": "af194aec-aa28-4b6e-c5b0-4370dac61b13"
   },
   "outputs": [],
   "source": [
    "def linear_scale(series):\n",
    "  min_val = series.min()\n",
    "  max_val = series.max()\n",
    "  scale = (max_val - min_val) / 2.0\n",
    "  return series.apply(lambda x:((x - min_val) / scale) - 1.0)"
   ]
  },
  {
   "cell_type": "markdown",
   "metadata": {
    "colab_type": "text",
    "id": "MVmuHI76N2Sz",
    "slideshow": {
     "slide_type": "slide"
    }
   },
   "source": [
    "## Task 1: Normalize the Features Using Linear Scaling\n",
    "\n",
    "**Normalize the inputs to the scale -1, 1.**\n",
    "\n",
    "**Spend about 5 minutes training and evaluating on the newly normalized data.  How well can you do?**\n",
    "\n",
    "As a rule of thumb, NN's train best when the input features are roughly on the same scale.\n",
    "\n",
    "Sanity check your normalized data.  (What would happen if you forgot to normalize one feature?)\n"
   ]
  },
  {
   "cell_type": "code",
   "execution_count": 24,
   "metadata": {
    "colab": {
     "autoexec": {
      "startup": false,
      "wait_interval": 0
     },
     "base_uri": "https://localhost:8080/",
     "height": 297
    },
    "colab_type": "code",
    "executionInfo": {
     "elapsed": 1118,
     "status": "ok",
     "timestamp": 1527779728308,
     "user": {
      "displayName": "",
      "photoUrl": "",
      "userId": ""
     },
     "user_tz": -330
    },
    "id": "yD948ZgAM6Cx",
    "outputId": "8ad47cc2-e627-4eff-e219-c0eb66a08515"
   },
   "outputs": [
    {
     "data": {
      "text/html": [
       "<div>\n",
       "<style scoped>\n",
       "    .dataframe tbody tr th:only-of-type {\n",
       "        vertical-align: middle;\n",
       "    }\n",
       "\n",
       "    .dataframe tbody tr th {\n",
       "        vertical-align: top;\n",
       "    }\n",
       "\n",
       "    .dataframe thead th {\n",
       "        text-align: right;\n",
       "    }\n",
       "</style>\n",
       "<table border=\"1\" class=\"dataframe\">\n",
       "  <thead>\n",
       "    <tr style=\"text-align: right;\">\n",
       "      <th></th>\n",
       "      <th>latitude</th>\n",
       "      <th>longitude</th>\n",
       "      <th>housing_median_age</th>\n",
       "      <th>total_rooms</th>\n",
       "      <th>total_bedrooms</th>\n",
       "      <th>population</th>\n",
       "      <th>households</th>\n",
       "      <th>median_income</th>\n",
       "      <th>rooms_per_person</th>\n",
       "    </tr>\n",
       "  </thead>\n",
       "  <tbody>\n",
       "    <tr>\n",
       "      <th>count</th>\n",
       "      <td>12000.0</td>\n",
       "      <td>12000.0</td>\n",
       "      <td>12000.0</td>\n",
       "      <td>12000.0</td>\n",
       "      <td>12000.0</td>\n",
       "      <td>12000.0</td>\n",
       "      <td>12000.0</td>\n",
       "      <td>12000.0</td>\n",
       "      <td>12000.0</td>\n",
       "    </tr>\n",
       "    <tr>\n",
       "      <th>mean</th>\n",
       "      <td>-0.3</td>\n",
       "      <td>-0.0</td>\n",
       "      <td>0.1</td>\n",
       "      <td>-0.9</td>\n",
       "      <td>-0.8</td>\n",
       "      <td>-0.9</td>\n",
       "      <td>-0.8</td>\n",
       "      <td>-0.5</td>\n",
       "      <td>-0.9</td>\n",
       "    </tr>\n",
       "    <tr>\n",
       "      <th>std</th>\n",
       "      <td>0.5</td>\n",
       "      <td>0.4</td>\n",
       "      <td>0.5</td>\n",
       "      <td>0.1</td>\n",
       "      <td>0.1</td>\n",
       "      <td>0.1</td>\n",
       "      <td>0.1</td>\n",
       "      <td>0.3</td>\n",
       "      <td>0.0</td>\n",
       "    </tr>\n",
       "    <tr>\n",
       "      <th>min</th>\n",
       "      <td>-1.0</td>\n",
       "      <td>-1.0</td>\n",
       "      <td>-1.0</td>\n",
       "      <td>-1.0</td>\n",
       "      <td>-1.0</td>\n",
       "      <td>-1.0</td>\n",
       "      <td>-1.0</td>\n",
       "      <td>-1.0</td>\n",
       "      <td>-1.0</td>\n",
       "    </tr>\n",
       "    <tr>\n",
       "      <th>25%</th>\n",
       "      <td>-0.7</td>\n",
       "      <td>-0.5</td>\n",
       "      <td>-0.3</td>\n",
       "      <td>-0.9</td>\n",
       "      <td>-0.9</td>\n",
       "      <td>-1.0</td>\n",
       "      <td>-0.9</td>\n",
       "      <td>-0.7</td>\n",
       "      <td>-0.9</td>\n",
       "    </tr>\n",
       "    <tr>\n",
       "      <th>50%</th>\n",
       "      <td>-0.6</td>\n",
       "      <td>0.2</td>\n",
       "      <td>0.1</td>\n",
       "      <td>-0.9</td>\n",
       "      <td>-0.9</td>\n",
       "      <td>-0.9</td>\n",
       "      <td>-0.9</td>\n",
       "      <td>-0.6</td>\n",
       "      <td>-0.9</td>\n",
       "    </tr>\n",
       "    <tr>\n",
       "      <th>75%</th>\n",
       "      <td>0.1</td>\n",
       "      <td>0.3</td>\n",
       "      <td>0.4</td>\n",
       "      <td>-0.8</td>\n",
       "      <td>-0.8</td>\n",
       "      <td>-0.9</td>\n",
       "      <td>-0.8</td>\n",
       "      <td>-0.4</td>\n",
       "      <td>-0.9</td>\n",
       "    </tr>\n",
       "    <tr>\n",
       "      <th>max</th>\n",
       "      <td>1.0</td>\n",
       "      <td>0.9</td>\n",
       "      <td>1.0</td>\n",
       "      <td>1.0</td>\n",
       "      <td>1.0</td>\n",
       "      <td>0.6</td>\n",
       "      <td>1.0</td>\n",
       "      <td>1.0</td>\n",
       "      <td>0.9</td>\n",
       "    </tr>\n",
       "  </tbody>\n",
       "</table>\n",
       "</div>"
      ],
      "text/plain": [
       "       latitude  longitude  housing_median_age  total_rooms  total_bedrooms  \\\n",
       "count   12000.0    12000.0             12000.0      12000.0         12000.0   \n",
       "mean       -0.3       -0.0                 0.1         -0.9            -0.8   \n",
       "std         0.5        0.4                 0.5          0.1             0.1   \n",
       "min        -1.0       -1.0                -1.0         -1.0            -1.0   \n",
       "25%        -0.7       -0.5                -0.3         -0.9            -0.9   \n",
       "50%        -0.6        0.2                 0.1         -0.9            -0.9   \n",
       "75%         0.1        0.3                 0.4         -0.8            -0.8   \n",
       "max         1.0        0.9                 1.0          1.0             1.0   \n",
       "\n",
       "       population  households  median_income  rooms_per_person  \n",
       "count     12000.0     12000.0        12000.0           12000.0  \n",
       "mean         -0.9        -0.8           -0.5              -0.9  \n",
       "std           0.1         0.1            0.3               0.0  \n",
       "min          -1.0        -1.0           -1.0              -1.0  \n",
       "25%          -1.0        -0.9           -0.7              -0.9  \n",
       "50%          -0.9        -0.9           -0.6              -0.9  \n",
       "75%          -0.9        -0.8           -0.4              -0.9  \n",
       "max           0.6         1.0            1.0               0.9  "
      ]
     },
     "execution_count": 24,
     "metadata": {
      "tags": []
     },
     "output_type": "execute_result"
    }
   ],
   "source": [
    "def normalize_linear_scale(examples_dataframe):\n",
    "  \"\"\"Returns a version of the input `DataFrame` that has all its features normalized linearly.\"\"\"\n",
    "  #\n",
    "  # Your code here: normalize the inputs.\n",
    "  processed_features = pd.DataFrame()\n",
    "  for column in examples_dataframe:\n",
    "    processed_features[column] = linear_scale(examples_dataframe[column])\n",
    "    \n",
    "  return processed_features\n",
    "  \n",
    "  pass\n",
    "\n",
    "normalized_dataframe = normalize_linear_scale(preprocess_features(california_housing_dataframe))\n",
    "normalized_training_examples = normalized_dataframe.head(12000)\n",
    "normalized_validation_examples = normalized_dataframe.tail(5000)\n",
    "\n",
    "normalized_training_examples.describe()\n",
    "\n"
   ]
  },
  {
   "cell_type": "code",
   "execution_count": 25,
   "metadata": {
    "colab": {
     "autoexec": {
      "startup": false,
      "wait_interval": 0
     },
     "base_uri": "https://localhost:8080/",
     "height": 656
    },
    "colab_type": "code",
    "executionInfo": {
     "elapsed": 115217,
     "status": "ok",
     "timestamp": 1527779848637,
     "user": {
      "displayName": "",
      "photoUrl": "",
      "userId": ""
     },
     "user_tz": -330
    },
    "id": "T7iLf4VcwyB0",
    "outputId": "78e20d2e-9f0b-4360-ba37-0c8315ee6a67"
   },
   "outputs": [
    {
     "name": "stdout",
     "output_type": "stream",
     "text": [
      "Training model...\n",
      "RMSE (on training data):\n",
      "  period 00 : 233.78\n",
      "  period 01 : 216.70\n",
      "  period 02 : 176.98\n",
      "  period 03 : 124.36\n",
      "  period 04 : 115.55\n",
      "  period 05 : 111.95\n",
      "  period 06 : 107.73\n",
      "  period 07 : 102.85\n",
      "  period 08 : 96.89\n",
      "  period 09 : 90.46\n",
      "Model training finished.\n",
      "Final RMSE (on training data):   90.46\n",
      "Final RMSE (on validation data): 89.30\n"
     ]
    },
    {
     "data": {
      "image/png": "[encoded data removed]",
      "text/plain": [
       "<matplotlib.figure.Figure at 0x7f97139b3650>"
      ]
     },
     "metadata": {
      "tags": []
     },
     "output_type": "display_data"
    }
   ],
   "source": [
    "_ = train_nn_regression_model(\n",
    "    my_optimizer=tf.train.GradientDescentOptimizer(learning_rate=0.0007),\n",
    "    steps=5000,\n",
    "    batch_size=70,\n",
    "    hidden_units=[10, 10],\n",
    "    training_examples=normalized_training_examples,\n",
    "    training_targets=training_targets,\n",
    "    validation_examples=normalized_validation_examples,\n",
    "    validation_targets=validation_targets)"
   ]
  },
  {
   "cell_type": "markdown",
   "metadata": {
    "colab_type": "text",
    "id": "jFfc3saSxg6t"
   },
   "source": [
    "### Solution\n",
    "\n",
    "Click below for one possible solution."
   ]
  },
  {
   "cell_type": "markdown",
   "metadata": {
    "colab_type": "text",
    "id": "Ax_IIQVRx4gr"
   },
   "source": [
    "Since normalization uses min and max, we have to ensure it's done on the entire dataset at once. \n",
    "\n",
    "We can do that here because all our data is in a single DataFrame. If we had multiple data sets, a good practice would be to derive the normalization parameters from the training set and apply those identically to the test set."
   ]
  },
  {
   "cell_type": "code",
   "execution_count": 0,
   "metadata": {
    "colab": {
     "autoexec": {
      "startup": false,
      "wait_interval": 0
     }
    },
    "colab_type": "code",
    "id": "D-bJBXrJx-U_"
   },
   "outputs": [],
   "source": [
    "def normalize_linear_scale(examples_dataframe):\n",
    "  \"\"\"Returns a version of the input `DataFrame` that has all its features normalized linearly.\"\"\"\n",
    "  processed_features = pd.DataFrame()\n",
    "  processed_features[\"latitude\"] = linear_scale(examples_dataframe[\"latitude\"])\n",
    "  processed_features[\"longitude\"] = linear_scale(examples_dataframe[\"longitude\"])\n",
    "  processed_features[\"housing_median_age\"] = linear_scale(examples_dataframe[\"housing_median_age\"])\n",
    "  processed_features[\"total_rooms\"] = linear_scale(examples_dataframe[\"total_rooms\"])\n",
    "  processed_features[\"total_bedrooms\"] = linear_scale(examples_dataframe[\"total_bedrooms\"])\n",
    "  processed_features[\"population\"] = linear_scale(examples_dataframe[\"population\"])\n",
    "  processed_features[\"households\"] = linear_scale(examples_dataframe[\"households\"])\n",
    "  processed_features[\"median_income\"] = linear_scale(examples_dataframe[\"median_income\"])\n",
    "  processed_features[\"rooms_per_person\"] = linear_scale(examples_dataframe[\"rooms_per_person\"])\n",
    "  return processed_features\n",
    "\n",
    "normalized_dataframe = normalize_linear_scale(preprocess_features(california_housing_dataframe))\n",
    "normalized_training_examples = normalized_dataframe.head(12000)\n",
    "normalized_validation_examples = normalized_dataframe.tail(5000)\n",
    "\n",
    "_ = train_nn_regression_model(\n",
    "    my_optimizer=tf.train.GradientDescentOptimizer(learning_rate=0.005),\n",
    "    steps=2000,\n",
    "    batch_size=50,\n",
    "    hidden_units=[10, 10],\n",
    "    training_examples=normalized_training_examples,\n",
    "    training_targets=training_targets,\n",
    "    validation_examples=normalized_validation_examples,\n",
    "    validation_targets=validation_targets)"
   ]
  },
  {
   "cell_type": "markdown",
   "metadata": {
    "colab_type": "text",
    "id": "MrwtdStNJ6ZQ",
    "slideshow": {
     "slide_type": "slide"
    }
   },
   "source": [
    "## Task 2: Try a Different Optimizer\n",
    "\n",
    "** Use the Adagrad and Adam optimizers and compare performance.**\n",
    "\n",
    "The Adagrad optimizer is one alternative. The key insight of Adagrad is that it modifies the learning rate adaptively for each coefficient in a model, monotonically lowering the effective learning rate.  This works great for convex problems, but isn't always ideal for the non-convex problem Neural Net training.  You can use Adagrad by specifying `AdagradOptimizer` instead of `GradientDescentOptimizer`.  Note that you may need to use a larger learning rate with Adagrad.\n",
    "\n",
    "For non-convex optimization problems, Adam is sometimes more efficient than Adagrad.  To use Adam, invoke the `tf.train.AdamOptimizer` method. This method takes several optional hyperparameters as arguments, but our solution only specifies one of these (`learning_rate`). In a production setting, you should specify and tune the optional hyperparameters carefully."
   ]
  },
  {
   "cell_type": "code",
   "execution_count": 26,
   "metadata": {
    "colab": {
     "autoexec": {
      "startup": false,
      "wait_interval": 0
     },
     "base_uri": "https://localhost:8080/",
     "height": 656
    },
    "colab_type": "code",
    "executionInfo": {
     "elapsed": 105992,
     "status": "ok",
     "timestamp": 1527779969459,
     "user": {
      "displayName": "",
      "photoUrl": "",
      "userId": ""
     },
     "user_tz": -330
    },
    "id": "61GSlDvF7-7q",
    "outputId": "d933a8ab-fcf6-420b-c16c-cbfc417096fb"
   },
   "outputs": [
    {
     "name": "stdout",
     "output_type": "stream",
     "text": [
      "Training model...\n",
      "RMSE (on training data):\n",
      "  period 00 : 116.67\n",
      "  period 01 : 77.49\n",
      "  period 02 : 71.72\n",
      "  period 03 : 70.59\n",
      "  period 04 : 69.92\n",
      "  period 05 : 70.15\n",
      "  period 06 : 69.54\n",
      "  period 07 : 69.75\n",
      "  period 08 : 68.59\n",
      "  period 09 : 67.93\n",
      "Model training finished.\n",
      "Final RMSE (on training data):   67.93\n",
      "Final RMSE (on validation data): 68.12\n"
     ]
    },
    {
     "data": {
      "image/png": "[encoded data removed]",
      "text/plain": [
       "<matplotlib.figure.Figure at 0x7f9713a18e50>"
      ]
     },
     "metadata": {
      "tags": []
     },
     "output_type": "display_data"
    }
   ],
   "source": [
    "#\n",
    "# YOUR CODE HERE: Retrain the network using Adagrad and then Adam.\n",
    "_ = train_nn_regression_model(\n",
    "    my_optimizer=tf.train.AdamOptimizer(learning_rate=0.005),\n",
    "    steps=2000,\n",
    "    batch_size=50,\n",
    "    hidden_units=[10, 10],\n",
    "    training_examples=normalized_training_examples,\n",
    "    training_targets=training_targets,\n",
    "    validation_examples=normalized_validation_examples,\n",
    "    validation_targets=validation_targets)"
   ]
  },
  {
   "cell_type": "code",
   "execution_count": 27,
   "metadata": {
    "colab": {
     "autoexec": {
      "startup": false,
      "wait_interval": 0
     },
     "base_uri": "https://localhost:8080/",
     "height": 656
    },
    "colab_type": "code",
    "executionInfo": {
     "elapsed": 107588,
     "status": "ok",
     "timestamp": 1527780130520,
     "user": {
      "displayName": "",
      "photoUrl": "",
      "userId": ""
     },
     "user_tz": -330
    },
    "id": "oFZwGhg3uHO9",
    "outputId": "16242ce8-40b9-4a9a-d990-6abb11fdadd3"
   },
   "outputs": [
    {
     "name": "stdout",
     "output_type": "stream",
     "text": [
      "Training model...\n",
      "RMSE (on training data):\n",
      "  period 00 : 237.02\n",
      "  period 01 : 236.35\n",
      "  period 02 : 235.61\n",
      "  period 03 : 234.82\n",
      "  period 04 : 234.00\n",
      "  period 05 : 233.15\n",
      "  period 06 : 232.26\n",
      "  period 07 : 231.35\n",
      "  period 08 : 230.41\n",
      "  period 09 : 229.44\n",
      "Model training finished.\n",
      "Final RMSE (on training data):   229.44\n",
      "Final RMSE (on validation data): 229.29\n"
     ]
    },
    {
     "data": {
      "image/png": "[encoded data removed]",
      "text/plain": [
       "<matplotlib.figure.Figure at 0x7f970a668350>"
      ]
     },
     "metadata": {
      "tags": []
     },
     "output_type": "display_data"
    }
   ],
   "source": [
    "_ = train_nn_regression_model(\n",
    "    my_optimizer=tf.train.AdagradOptimizer(learning_rate=0.005),\n",
    "    steps=2000,\n",
    "    batch_size=50,\n",
    "    hidden_units=[10, 10],\n",
    "    training_examples=normalized_training_examples,\n",
    "    training_targets=training_targets,\n",
    "    validation_examples=normalized_validation_examples,\n",
    "    validation_targets=validation_targets)"
   ]
  },
  {
   "cell_type": "markdown",
   "metadata": {
    "colab_type": "text",
    "id": "FSPZIiYgyh93"
   },
   "source": [
    "### Solution\n",
    "\n",
    "Click below for the solution"
   ]
  },
  {
   "cell_type": "markdown",
   "metadata": {
    "colab_type": "text",
    "id": "X1QcIeiKyni4"
   },
   "source": [
    "First, let's try Adagrad."
   ]
  },
  {
   "cell_type": "code",
   "execution_count": 0,
   "metadata": {
    "colab": {
     "autoexec": {
      "startup": false,
      "wait_interval": 0
     }
    },
    "colab_type": "code",
    "id": "Ntn4jJxnypGZ"
   },
   "outputs": [],
   "source": [
    "_, adagrad_training_losses, adagrad_validation_losses = train_nn_regression_model(\n",
    "    my_optimizer=tf.train.AdagradOptimizer(learning_rate=0.5),\n",
    "    steps=500,\n",
    "    batch_size=100,\n",
    "    hidden_units=[10, 10],\n",
    "    training_examples=normalized_training_examples,\n",
    "    training_targets=training_targets,\n",
    "    validation_examples=normalized_validation_examples,\n",
    "    validation_targets=validation_targets)"
   ]
  },
  {
   "cell_type": "markdown",
   "metadata": {
    "colab_type": "text",
    "id": "5JUsCdRRyso3"
   },
   "source": [
    "Now let's try Adam."
   ]
  },
  {
   "cell_type": "code",
   "execution_count": 0,
   "metadata": {
    "colab": {
     "autoexec": {
      "startup": false,
      "wait_interval": 0
     }
    },
    "colab_type": "code",
    "id": "lZB8k0upyuY8"
   },
   "outputs": [],
   "source": [
    "_, adam_training_losses, adam_validation_losses = train_nn_regression_model(\n",
    "    my_optimizer=tf.train.AdamOptimizer(learning_rate=0.009),\n",
    "    steps=500,\n",
    "    batch_size=100,\n",
    "    hidden_units=[10, 10],\n",
    "    training_examples=normalized_training_examples,\n",
    "    training_targets=training_targets,\n",
    "    validation_examples=normalized_validation_examples,\n",
    "    validation_targets=validation_targets)"
   ]
  },
  {
   "cell_type": "markdown",
   "metadata": {
    "colab_type": "text",
    "id": "twYgC8FGyxm6"
   },
   "source": [
    "Let's print a graph of loss metrics side by side."
   ]
  },
  {
   "cell_type": "code",
   "execution_count": 0,
   "metadata": {
    "colab": {
     "autoexec": {
      "startup": false,
      "wait_interval": 0
     }
    },
    "colab_type": "code",
    "id": "8RHIUEfqyzW0"
   },
   "outputs": [],
   "source": [
    "plt.ylabel(\"RMSE\")\n",
    "plt.xlabel(\"Periods\")\n",
    "plt.title(\"Root Mean Squared Error vs. Periods\")\n",
    "plt.plot(adagrad_training_losses, label='Adagrad training')\n",
    "plt.plot(adagrad_validation_losses, label='Adagrad validation')\n",
    "plt.plot(adam_training_losses, label='Adam training')\n",
    "plt.plot(adam_validation_losses, label='Adam validation')\n",
    "_ = plt.legend()"
   ]
  },
  {
   "cell_type": "markdown",
   "metadata": {
    "colab_type": "text",
    "id": "UySPl7CAQ28C",
    "slideshow": {
     "slide_type": "slide"
    }
   },
   "source": [
    "## Task 3: Explore Alternate Normalization Methods\n",
    "\n",
    "**Try alternate normalizations for various features to further improve performance.**\n",
    "\n",
    "If you look closely at summary stats for your transformed data, you may notice that linear scaling some features leaves them clumped close to `-1`.\n",
    "\n",
    "For example, many features have a median of `-0.8` or so, rather than `0.0`."
   ]
  },
  {
   "cell_type": "code",
   "execution_count": 22,
   "metadata": {
    "colab": {
     "autoexec": {
      "startup": false,
      "wait_interval": 0
     },
     "base_uri": "https://localhost:8080/",
     "height": 715
    },
    "colab_type": "code",
    "executionInfo": {
     "elapsed": 2881,
     "status": "ok",
     "timestamp": 1527779490357,
     "user": {
      "displayName": "",
      "photoUrl": "",
      "userId": ""
     },
     "user_tz": -330
    },
    "id": "QWmm_6CGKxlH",
    "outputId": "863f7cfd-c1f8-4336-8759-93aebb8bf6bf"
   },
   "outputs": [
    {
     "data": {
      "image/png": "[encoded data removed]",
      "text/plain": [
       "<matplotlib.figure.Figure at 0x7f970eeabd10>"
      ]
     },
     "metadata": {
      "tags": []
     },
     "output_type": "display_data"
    }
   ],
   "source": [
    "_ = normalized_training_examples.hist(bins=20, figsize=(18, 12), xlabelsize=10)"
   ]
  },
  {
   "cell_type": "markdown",
   "metadata": {
    "colab_type": "text",
    "id": "Xx9jgEMHKxlJ"
   },
   "source": [
    "We might be able to do better by choosing additional ways to transform these features.\n",
    "\n",
    "For example, a log scaling might help some features.  Or clipping extreme values may make the remainder of the scale more informative."
   ]
  },
  {
   "cell_type": "code",
   "execution_count": 29,
   "metadata": {
    "colab": {
     "autoexec": {
      "startup": false,
      "wait_interval": 0
     },
     "base_uri": "https://localhost:8080/",
     "height": 17
    },
    "colab_type": "code",
    "executionInfo": {
     "elapsed": 1077,
     "status": "ok",
     "timestamp": 1527780223936,
     "user": {
      "displayName": "",
      "photoUrl": "",
      "userId": ""
     },
     "user_tz": -330
    },
    "id": "baKZa6MEKxlK",
    "outputId": "4e5594c6-eea5-40c0-bc4f-0465608e105f"
   },
   "outputs": [],
   "source": [
    "def log_normalize(series):\n",
    "  return series.apply(lambda x:math.log(x+1.0))\n",
    "\n",
    "def clip(series, clip_to_min, clip_to_max):\n",
    "  return series.apply(lambda x:(\n",
    "    min(max(x, clip_to_min), clip_to_max)))\n",
    "\n",
    "def z_score_normalize(series):\n",
    "  mean = series.mean()\n",
    "  std_dv = series.std()\n",
    "  return series.apply(lambda x:(x - mean) / std_dv)\n",
    "\n",
    "def binary_threshold(series, threshold):\n",
    "  return series.apply(lambda x:(1 if x > threshold else 0))"
   ]
  },
  {
   "cell_type": "markdown",
   "metadata": {
    "colab_type": "text",
    "id": "-wCCq_ClKxlO"
   },
   "source": [
    "The block above contains a few additional possible normalization functions. Try some of these, or add your own.\n",
    "\n",
    "Note that if you normalize the target, you'll need to un-normalize the predictions for loss metrics to be comparable."
   ]
  },
  {
   "cell_type": "code",
   "execution_count": 33,
   "metadata": {
    "colab": {
     "autoexec": {
      "startup": false,
      "wait_interval": 0
     },
     "base_uri": "https://localhost:8080/",
     "height": 17
    },
    "colab_type": "code",
    "executionInfo": {
     "elapsed": 890,
     "status": "ok",
     "timestamp": 1527783002395,
     "user": {
      "displayName": "",
      "photoUrl": "",
      "userId": ""
     },
     "user_tz": -330
    },
    "id": "8ToG-mLfMO9P",
    "outputId": "712617f1-5177-413e-df8f-c9b57f5401a3"
   },
   "outputs": [],
   "source": [
    "def normalize(examples_dataframe):\n",
    "  \"\"\"Returns a version of the input `DataFrame` that has all its features normalized.\"\"\"\n",
    "  #\n",
    "  # YOUR CODE HERE: Normalize the inputs.\n",
    "  processed_features = pd.DataFrame()\n",
    "\n",
    "  processed_features[\"households\"] = log_normalize(examples_dataframe[\"households\"])\n",
    "  processed_features[\"median_income\"] = log_normalize(examples_dataframe[\"median_income\"])\n",
    "  processed_features[\"total_bedrooms\"] = log_normalize(examples_dataframe[\"total_bedrooms\"])\n",
    "  \n",
    "  processed_features[\"latitude\"] = linear_scale(examples_dataframe[\"latitude\"])\n",
    "  processed_features[\"longitude\"] = linear_scale(examples_dataframe[\"longitude\"])\n",
    "  processed_features[\"housing_median_age\"] = linear_scale(examples_dataframe[\"housing_median_age\"])\n",
    "\n",
    "  processed_features[\"population\"] = linear_scale(clip(examples_dataframe[\"population\"], 0, 5000))\n",
    "  processed_features[\"rooms_per_person\"] = linear_scale(clip(examples_dataframe[\"rooms_per_person\"], 0, 5))\n",
    "  processed_features[\"total_rooms\"] = linear_scale(clip(examples_dataframe[\"total_rooms\"], 0, 10000))\n",
    "\n",
    "  return processed_features\n",
    "  pass\n",
    "\n",
    "normalized_dataframe = normalize(preprocess_features(california_housing_dataframe))\n",
    "normalized_training_examples = normalized_dataframe.head(12000)\n",
    "normalized_validation_examples = normalized_dataframe.tail(5000)\n",
    "\n"
   ]
  },
  {
   "cell_type": "code",
   "execution_count": 34,
   "metadata": {
    "colab": {
     "autoexec": {
      "startup": false,
      "wait_interval": 0
     },
     "base_uri": "https://localhost:8080/",
     "height": 656
    },
    "colab_type": "code",
    "executionInfo": {
     "elapsed": 116889,
     "status": "ok",
     "timestamp": 1527783124210,
     "user": {
      "displayName": "",
      "photoUrl": "",
      "userId": ""
     },
     "user_tz": -330
    },
    "id": "06FPc2xX9KXN",
    "outputId": "aaad912b-62b6-4168-93bf-88bedb49c0a0"
   },
   "outputs": [
    {
     "name": "stdout",
     "output_type": "stream",
     "text": [
      "Training model...\n",
      "RMSE (on training data):\n",
      "  period 00 : 214.46\n",
      "  period 01 : 135.90\n",
      "  period 02 : 113.28\n",
      "  period 03 : 111.57\n",
      "  period 04 : 109.55\n",
      "  period 05 : 106.88\n",
      "  period 06 : 103.49\n",
      "  period 07 : 99.35\n",
      "  period 08 : 94.88\n",
      "  period 09 : 90.37\n",
      "Model training finished.\n",
      "Final RMSE (on training data):   90.37\n",
      "Final RMSE (on validation data): 89.51\n"
     ]
    },
    {
     "data": {
      "image/png": "[encoded data removed]",
      "text/plain": [
       "<matplotlib.figure.Figure at 0x7f97103a28d0>"
      ]
     },
     "metadata": {
      "tags": []
     },
     "output_type": "display_data"
    }
   ],
   "source": [
    "_ = train_nn_regression_model(\n",
    "    my_optimizer=tf.train.GradientDescentOptimizer(learning_rate=0.0007),\n",
    "    steps=5000,\n",
    "    batch_size=70,\n",
    "    hidden_units=[10, 10],\n",
    "    training_examples=normalized_training_examples,\n",
    "    training_targets=training_targets,\n",
    "    validation_examples=normalized_validation_examples,\n",
    "    validation_targets=validation_targets)"
   ]
  },
  {
   "cell_type": "markdown",
   "metadata": {
    "colab_type": "text",
    "id": "GhFtWjQRzD2l"
   },
   "source": [
    "### Solution\n",
    "\n",
    "Click below for one possible solution."
   ]
  },
  {
   "cell_type": "markdown",
   "metadata": {
    "colab_type": "text",
    "id": "OMoIsUMmzK9b"
   },
   "source": [
    "These are only a few ways in which we could think about the data. Other transformations may work even better!\n",
    "\n",
    "`households`, `median_income` and `total_bedrooms` all appear normally-distributed in a log space.\n",
    "\n",
    "`latitude`, `longitude` and `housing_median_age` would probably be better off just scaled linearly, as before.\n",
    "\n",
    "`population`, `totalRooms` and `rooms_per_person` have a few extreme outliers. They seem too extreme for log normalization to help. So let's clip them instead."
   ]
  },
  {
   "cell_type": "code",
   "execution_count": 0,
   "metadata": {
    "colab": {
     "autoexec": {
      "startup": false,
      "wait_interval": 0
     }
    },
    "colab_type": "code",
    "id": "XDEYkPquzYCH"
   },
   "outputs": [],
   "source": [
    "def normalize(examples_dataframe):\n",
    "  \"\"\"Returns a version of the input `DataFrame` that has all its features normalized.\"\"\"\n",
    "  processed_features = pd.DataFrame()\n",
    "\n",
    "  processed_features[\"households\"] = log_normalize(examples_dataframe[\"households\"])\n",
    "  processed_features[\"median_income\"] = log_normalize(examples_dataframe[\"median_income\"])\n",
    "  processed_features[\"total_bedrooms\"] = log_normalize(examples_dataframe[\"total_bedrooms\"])\n",
    "  \n",
    "  processed_features[\"latitude\"] = linear_scale(examples_dataframe[\"latitude\"])\n",
    "  processed_features[\"longitude\"] = linear_scale(examples_dataframe[\"longitude\"])\n",
    "  processed_features[\"housing_median_age\"] = linear_scale(examples_dataframe[\"housing_median_age\"])\n",
    "\n",
    "  processed_features[\"population\"] = linear_scale(clip(examples_dataframe[\"population\"], 0, 5000))\n",
    "  processed_features[\"rooms_per_person\"] = linear_scale(clip(examples_dataframe[\"rooms_per_person\"], 0, 5))\n",
    "  processed_features[\"total_rooms\"] = linear_scale(clip(examples_dataframe[\"total_rooms\"], 0, 10000))\n",
    "\n",
    "  return processed_features\n",
    "\n",
    "normalized_dataframe = normalize(preprocess_features(california_housing_dataframe))\n",
    "normalized_training_examples = normalized_dataframe.head(12000)\n",
    "normalized_validation_examples = normalized_dataframe.tail(5000)\n",
    "\n",
    "_ = train_nn_regression_model(\n",
    "    my_optimizer=tf.train.AdagradOptimizer(learning_rate=0.15),\n",
    "    steps=1000,\n",
    "    batch_size=50,\n",
    "    hidden_units=[10, 10],\n",
    "    training_examples=normalized_training_examples,\n",
    "    training_targets=training_targets,\n",
    "    validation_examples=normalized_validation_examples,\n",
    "    validation_targets=validation_targets)"
   ]
  },
  {
   "cell_type": "markdown",
   "metadata": {
    "colab_type": "text",
    "id": "b7atJTbzU9Ca",
    "slideshow": {
     "slide_type": "slide"
    }
   },
   "source": [
    "## Optional Challenge: Use only Latitude and Longitude Features\n",
    "\n",
    "**Train a NN model that uses only latitude and longitude as features.**\n",
    "\n",
    "Real estate people are fond of saying that location is the only important feature in housing price.\n",
    "Let's see if we can confirm this by training a model that uses only latitude and longitude as features.\n",
    "\n",
    "This will only work well if our NN can learn complex nonlinearities from latitude and longitude.\n",
    "\n",
    "**NOTE:** We may need a network structure that has more layers than were useful earlier in the exercise."
   ]
  },
  {
   "cell_type": "code",
   "execution_count": 39,
   "metadata": {
    "colab": {
     "autoexec": {
      "startup": false,
      "wait_interval": 0
     },
     "base_uri": "https://localhost:8080/",
     "height": 656
    },
    "colab_type": "code",
    "executionInfo": {
     "elapsed": 82769,
     "status": "ok",
     "timestamp": 1527786016670,
     "user": {
      "displayName": "",
      "photoUrl": "",
      "userId": ""
     },
     "user_tz": -330
    },
    "id": "T5McjahpamOc",
    "outputId": "4e509930-7983-4e0c-873f-51f7a988be40"
   },
   "outputs": [
    {
     "name": "stdout",
     "output_type": "stream",
     "text": [
      "Training model...\n",
      "RMSE (on training data):\n",
      "  period 00 : 106.77\n",
      "  period 01 : 103.91\n",
      "  period 02 : 101.91\n",
      "  period 03 : 100.88\n",
      "  period 04 : 100.49\n",
      "  period 05 : 100.35\n",
      "  period 06 : 100.22\n",
      "  period 07 : 100.18\n",
      "  period 08 : 100.14\n",
      "  period 09 : 100.14\n",
      "Model training finished.\n",
      "Final RMSE (on training data):   100.14\n",
      "Final RMSE (on validation data): 100.77\n"
     ]
    },
    {
     "data": {
      "image/png": "[encoded data removed]",
      "text/plain": [
       "<matplotlib.figure.Figure at 0x7f970f5c52d0>"
      ]
     },
     "metadata": {
      "tags": []
     },
     "output_type": "display_data"
    }
   ],
   "source": [
    "#\n",
    "# YOUR CODE HERE: Train the network using only latitude and longitude\n",
    "normalized_dataframe = normalize(preprocess_features(california_housing_dataframe))\n",
    "normalized_training_examples = normalized_dataframe[['latitude','longitude']].head(12000)\n",
    "normalized_validation_examples = normalized_dataframe[['latitude','longitude']].tail(5000)\n",
    "_ = train_nn_regression_model(\n",
    "    my_optimizer=tf.train.AdagradOptimizer(learning_rate=0.1),\n",
    "    steps=1000,\n",
    "    batch_size=50,\n",
    "    hidden_units=[10, 10],\n",
    "    training_examples=normalized_training_examples,\n",
    "    training_targets=training_targets,\n",
    "    validation_examples=normalized_validation_examples,\n",
    "    validation_targets=validation_targets)"
   ]
  },
  {
   "cell_type": "markdown",
   "metadata": {
    "colab_type": "text",
    "id": "P8BLQ7T71JWd"
   },
   "source": [
    "### Solution\n",
    "\n",
    "Click below for a possible solution."
   ]
  },
  {
   "cell_type": "markdown",
   "metadata": {
    "colab_type": "text",
    "id": "1hwaFCE71OPZ"
   },
   "source": [
    "It's a good idea to keep latitude and longitude normalized:"
   ]
  },
  {
   "cell_type": "code",
   "execution_count": 0,
   "metadata": {
    "colab": {
     "autoexec": {
      "startup": false,
      "wait_interval": 0
     }
    },
    "colab_type": "code",
    "id": "djKtt4mz1ZEc"
   },
   "outputs": [],
   "source": [
    "def location_location_location(examples_dataframe):\n",
    "  \"\"\"Returns a version of the input `DataFrame` that keeps only the latitude and longitude.\"\"\"\n",
    "  processed_features = pd.DataFrame()\n",
    "  processed_features[\"latitude\"] = linear_scale(examples_dataframe[\"latitude\"])\n",
    "  processed_features[\"longitude\"] = linear_scale(examples_dataframe[\"longitude\"])\n",
    "  return processed_features\n",
    "\n",
    "lll_dataframe = location_location_location(preprocess_features(california_housing_dataframe))\n",
    "lll_training_examples = lll_dataframe.head(12000)\n",
    "lll_validation_examples = lll_dataframe.tail(5000)\n",
    "\n",
    "_ = train_nn_regression_model(\n",
    "    my_optimizer=tf.train.AdagradOptimizer(learning_rate=0.05),\n",
    "    steps=500,\n",
    "    batch_size=50,\n",
    "    hidden_units=[10, 10, 5, 5, 5],\n",
    "    training_examples=lll_training_examples,\n",
    "    training_targets=training_targets,\n",
    "    validation_examples=lll_validation_examples,\n",
    "    validation_targets=validation_targets)"
   ]
  },
  {
   "cell_type": "markdown",
   "metadata": {
    "colab_type": "text",
    "id": "Dw2Mr9JZ1cRi"
   },
   "source": [
    "This isn't too bad for just two features. Of course, property values can still vary significantly within short distances."
   ]
  }
 ],
 "metadata": {
  "colab": {
   "collapsed_sections": [
    "JndnmDMp66FL",
    "jFfc3saSxg6t",
    "FSPZIiYgyh93",
    "GhFtWjQRzD2l",
    "P8BLQ7T71JWd"
   ],
   "default_view": {},
   "name": "improving_neural_net_performance.ipynb",
   "provenance": [],
   "version": "0.3.2",
   "views": {}
  },
  "kernelspec": {
   "display_name": "Python 2",
   "language": "python",
   "name": "python2"
  },
  "language_info": {
   "codemirror_mode": {
    "name": "ipython",
    "version": 2
   },
   "file_extension": ".py",
   "mimetype": "text/x-python",
   "name": "python",
   "nbconvert_exporter": "python",
   "pygments_lexer": "ipython2",
   "version": "2.7.14"
  }
 },
 "nbformat": 4,
 "nbformat_minor": 1
}
